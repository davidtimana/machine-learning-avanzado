{
  "nbformat": 4,
  "nbformat_minor": 0,
  "metadata": {
    "colab": {
      "provenance": []
    },
    "kernelspec": {
      "name": "python3",
      "display_name": "Python 3"
    },
    "language_info": {
      "name": "python"
    }
  },
  "cells": [
    {
      "cell_type": "markdown",
      "source": [
        "<center><h1>Implementación de un Modelo de ML. Dataset a utilizar</h1></center>\n",
        "\n",
        "Usaremos el siguiente dataset encontrado en Kaggle, en el siguiente link: </br>\n",
        "https://www.kaggle.com/datasets/mfarhaannazirkhan/heart-dataset\n",
        "\n",
        "Se ha seleccionado este dataset, por estar más actualizado e incluir referencias\n",
        "\n",
        "Acorde con la descripción del dataset tendremos las siguientes columnas:\n",
        "\n",
        "\n",
        "1. age: Age of the patient (Numeric).\n",
        "2. sex: Gender of the patient. Values: 1 = male, 0 = female.\n",
        "3.     cp: Chest pain type. Values: 0 = Typical angina, 1 = Atypical angina, 2 = Non-anginal pain, 3 = Asymptomatic.\n",
        "4. trestbps: Resting Blood Pressure (in mm Hg) (Numeric).\n",
        "5. chol: Serum Cholesterol level (in mg/dl) (Numeric).\n",
        "6. fbs: Fasting blood sugar > 120 mg/dl. Values: 1 = true, 0 = false.\n",
        "7. restecg: Resting electrocardiographic results. Values: 0 = Normal, 1 = ST-T wave abnormality, 2 = Left ventricular hypertrophy.\n",
        "8. thalach: Maximum heart rate achieved (Numeric).\n",
        "9. exang: Exercise-induced angina. Values: 1 = yes, 0 = no.\n",
        "10. oldpeak: ST depression induced by exercise relative to rest (Numeric).\n",
        "11. slope: Slope of the peak exercise ST segment. Values: 0 = Upsloping, 1 = Flat, 2 = Downsloping.\n",
        "12. ca: Number of major vessels (0-3) colored by fluoroscopy. Values: 0, 1, 2, 3.\n",
        "13. thal: Thalassemia types. Values: 1 = Normal, 2 = Fixed defect, 3 = Reversible defect.\n",
        "14. target: Outcome variable (heart attack risk). Values: 1 = more chance of heart attack, 0 = less chance of heart attack."
      ],
      "metadata": {
        "id": "ThKJq_MD5xQY"
      }
    },
    {
      "cell_type": "code",
      "source": [
        "#cargamos el dataset\n",
        "import pandas as pd\n",
        "\n",
        "df =pd.read_csv('cleaned_merged_heart_dataset.csv')\n",
        "df.head()"
      ],
      "metadata": {
        "colab": {
          "base_uri": "https://localhost:8080/",
          "height": 206
        },
        "id": "4Y5xa_0H54zQ",
        "outputId": "0c3828a0-8074-4045-fbf7-1f51ca9b82a3"
      },
      "execution_count": null,
      "outputs": [
        {
          "output_type": "execute_result",
          "data": {
            "text/plain": [
              "   age  sex  cp  trestbps  chol  fbs  restecg  thalachh  exang  oldpeak  \\\n",
              "0   63    1   3       145   233    1        0       150      0      2.3   \n",
              "1   37    1   2       130   250    0        1       187      0      3.5   \n",
              "2   41    0   1       130   204    0        0       172      0      1.4   \n",
              "3   56    1   1       120   236    0        1       178      0      0.8   \n",
              "4   57    0   0       120   354    0        1       163      1      0.6   \n",
              "\n",
              "   slope  ca  thal  target  \n",
              "0      0   0     1       1  \n",
              "1      0   0     2       1  \n",
              "2      2   0     2       1  \n",
              "3      2   0     2       1  \n",
              "4      2   0     2       1  "
            ],
            "text/html": [
              "\n",
              "  <div id=\"df-06f87463-b557-4220-b2dd-b1cba444a52d\" class=\"colab-df-container\">\n",
              "    <div>\n",
              "<style scoped>\n",
              "    .dataframe tbody tr th:only-of-type {\n",
              "        vertical-align: middle;\n",
              "    }\n",
              "\n",
              "    .dataframe tbody tr th {\n",
              "        vertical-align: top;\n",
              "    }\n",
              "\n",
              "    .dataframe thead th {\n",
              "        text-align: right;\n",
              "    }\n",
              "</style>\n",
              "<table border=\"1\" class=\"dataframe\">\n",
              "  <thead>\n",
              "    <tr style=\"text-align: right;\">\n",
              "      <th></th>\n",
              "      <th>age</th>\n",
              "      <th>sex</th>\n",
              "      <th>cp</th>\n",
              "      <th>trestbps</th>\n",
              "      <th>chol</th>\n",
              "      <th>fbs</th>\n",
              "      <th>restecg</th>\n",
              "      <th>thalachh</th>\n",
              "      <th>exang</th>\n",
              "      <th>oldpeak</th>\n",
              "      <th>slope</th>\n",
              "      <th>ca</th>\n",
              "      <th>thal</th>\n",
              "      <th>target</th>\n",
              "    </tr>\n",
              "  </thead>\n",
              "  <tbody>\n",
              "    <tr>\n",
              "      <th>0</th>\n",
              "      <td>63</td>\n",
              "      <td>1</td>\n",
              "      <td>3</td>\n",
              "      <td>145</td>\n",
              "      <td>233</td>\n",
              "      <td>1</td>\n",
              "      <td>0</td>\n",
              "      <td>150</td>\n",
              "      <td>0</td>\n",
              "      <td>2.3</td>\n",
              "      <td>0</td>\n",
              "      <td>0</td>\n",
              "      <td>1</td>\n",
              "      <td>1</td>\n",
              "    </tr>\n",
              "    <tr>\n",
              "      <th>1</th>\n",
              "      <td>37</td>\n",
              "      <td>1</td>\n",
              "      <td>2</td>\n",
              "      <td>130</td>\n",
              "      <td>250</td>\n",
              "      <td>0</td>\n",
              "      <td>1</td>\n",
              "      <td>187</td>\n",
              "      <td>0</td>\n",
              "      <td>3.5</td>\n",
              "      <td>0</td>\n",
              "      <td>0</td>\n",
              "      <td>2</td>\n",
              "      <td>1</td>\n",
              "    </tr>\n",
              "    <tr>\n",
              "      <th>2</th>\n",
              "      <td>41</td>\n",
              "      <td>0</td>\n",
              "      <td>1</td>\n",
              "      <td>130</td>\n",
              "      <td>204</td>\n",
              "      <td>0</td>\n",
              "      <td>0</td>\n",
              "      <td>172</td>\n",
              "      <td>0</td>\n",
              "      <td>1.4</td>\n",
              "      <td>2</td>\n",
              "      <td>0</td>\n",
              "      <td>2</td>\n",
              "      <td>1</td>\n",
              "    </tr>\n",
              "    <tr>\n",
              "      <th>3</th>\n",
              "      <td>56</td>\n",
              "      <td>1</td>\n",
              "      <td>1</td>\n",
              "      <td>120</td>\n",
              "      <td>236</td>\n",
              "      <td>0</td>\n",
              "      <td>1</td>\n",
              "      <td>178</td>\n",
              "      <td>0</td>\n",
              "      <td>0.8</td>\n",
              "      <td>2</td>\n",
              "      <td>0</td>\n",
              "      <td>2</td>\n",
              "      <td>1</td>\n",
              "    </tr>\n",
              "    <tr>\n",
              "      <th>4</th>\n",
              "      <td>57</td>\n",
              "      <td>0</td>\n",
              "      <td>0</td>\n",
              "      <td>120</td>\n",
              "      <td>354</td>\n",
              "      <td>0</td>\n",
              "      <td>1</td>\n",
              "      <td>163</td>\n",
              "      <td>1</td>\n",
              "      <td>0.6</td>\n",
              "      <td>2</td>\n",
              "      <td>0</td>\n",
              "      <td>2</td>\n",
              "      <td>1</td>\n",
              "    </tr>\n",
              "  </tbody>\n",
              "</table>\n",
              "</div>\n",
              "    <div class=\"colab-df-buttons\">\n",
              "\n",
              "  <div class=\"colab-df-container\">\n",
              "    <button class=\"colab-df-convert\" onclick=\"convertToInteractive('df-06f87463-b557-4220-b2dd-b1cba444a52d')\"\n",
              "            title=\"Convert this dataframe to an interactive table.\"\n",
              "            style=\"display:none;\">\n",
              "\n",
              "  <svg xmlns=\"http://www.w3.org/2000/svg\" height=\"24px\" viewBox=\"0 -960 960 960\">\n",
              "    <path d=\"M120-120v-720h720v720H120Zm60-500h600v-160H180v160Zm220 220h160v-160H400v160Zm0 220h160v-160H400v160ZM180-400h160v-160H180v160Zm440 0h160v-160H620v160ZM180-180h160v-160H180v160Zm440 0h160v-160H620v160Z\"/>\n",
              "  </svg>\n",
              "    </button>\n",
              "\n",
              "  <style>\n",
              "    .colab-df-container {\n",
              "      display:flex;\n",
              "      gap: 12px;\n",
              "    }\n",
              "\n",
              "    .colab-df-convert {\n",
              "      background-color: #E8F0FE;\n",
              "      border: none;\n",
              "      border-radius: 50%;\n",
              "      cursor: pointer;\n",
              "      display: none;\n",
              "      fill: #1967D2;\n",
              "      height: 32px;\n",
              "      padding: 0 0 0 0;\n",
              "      width: 32px;\n",
              "    }\n",
              "\n",
              "    .colab-df-convert:hover {\n",
              "      background-color: #E2EBFA;\n",
              "      box-shadow: 0px 1px 2px rgba(60, 64, 67, 0.3), 0px 1px 3px 1px rgba(60, 64, 67, 0.15);\n",
              "      fill: #174EA6;\n",
              "    }\n",
              "\n",
              "    .colab-df-buttons div {\n",
              "      margin-bottom: 4px;\n",
              "    }\n",
              "\n",
              "    [theme=dark] .colab-df-convert {\n",
              "      background-color: #3B4455;\n",
              "      fill: #D2E3FC;\n",
              "    }\n",
              "\n",
              "    [theme=dark] .colab-df-convert:hover {\n",
              "      background-color: #434B5C;\n",
              "      box-shadow: 0px 1px 3px 1px rgba(0, 0, 0, 0.15);\n",
              "      filter: drop-shadow(0px 1px 2px rgba(0, 0, 0, 0.3));\n",
              "      fill: #FFFFFF;\n",
              "    }\n",
              "  </style>\n",
              "\n",
              "    <script>\n",
              "      const buttonEl =\n",
              "        document.querySelector('#df-06f87463-b557-4220-b2dd-b1cba444a52d button.colab-df-convert');\n",
              "      buttonEl.style.display =\n",
              "        google.colab.kernel.accessAllowed ? 'block' : 'none';\n",
              "\n",
              "      async function convertToInteractive(key) {\n",
              "        const element = document.querySelector('#df-06f87463-b557-4220-b2dd-b1cba444a52d');\n",
              "        const dataTable =\n",
              "          await google.colab.kernel.invokeFunction('convertToInteractive',\n",
              "                                                    [key], {});\n",
              "        if (!dataTable) return;\n",
              "\n",
              "        const docLinkHtml = 'Like what you see? Visit the ' +\n",
              "          '<a target=\"_blank\" href=https://colab.research.google.com/notebooks/data_table.ipynb>data table notebook</a>'\n",
              "          + ' to learn more about interactive tables.';\n",
              "        element.innerHTML = '';\n",
              "        dataTable['output_type'] = 'display_data';\n",
              "        await google.colab.output.renderOutput(dataTable, element);\n",
              "        const docLink = document.createElement('div');\n",
              "        docLink.innerHTML = docLinkHtml;\n",
              "        element.appendChild(docLink);\n",
              "      }\n",
              "    </script>\n",
              "  </div>\n",
              "\n",
              "\n",
              "    <div id=\"df-c8b60995-af08-4ff1-a957-121b8b872f41\">\n",
              "      <button class=\"colab-df-quickchart\" onclick=\"quickchart('df-c8b60995-af08-4ff1-a957-121b8b872f41')\"\n",
              "                title=\"Suggest charts\"\n",
              "                style=\"display:none;\">\n",
              "\n",
              "<svg xmlns=\"http://www.w3.org/2000/svg\" height=\"24px\"viewBox=\"0 0 24 24\"\n",
              "     width=\"24px\">\n",
              "    <g>\n",
              "        <path d=\"M19 3H5c-1.1 0-2 .9-2 2v14c0 1.1.9 2 2 2h14c1.1 0 2-.9 2-2V5c0-1.1-.9-2-2-2zM9 17H7v-7h2v7zm4 0h-2V7h2v10zm4 0h-2v-4h2v4z\"/>\n",
              "    </g>\n",
              "</svg>\n",
              "      </button>\n",
              "\n",
              "<style>\n",
              "  .colab-df-quickchart {\n",
              "      --bg-color: #E8F0FE;\n",
              "      --fill-color: #1967D2;\n",
              "      --hover-bg-color: #E2EBFA;\n",
              "      --hover-fill-color: #174EA6;\n",
              "      --disabled-fill-color: #AAA;\n",
              "      --disabled-bg-color: #DDD;\n",
              "  }\n",
              "\n",
              "  [theme=dark] .colab-df-quickchart {\n",
              "      --bg-color: #3B4455;\n",
              "      --fill-color: #D2E3FC;\n",
              "      --hover-bg-color: #434B5C;\n",
              "      --hover-fill-color: #FFFFFF;\n",
              "      --disabled-bg-color: #3B4455;\n",
              "      --disabled-fill-color: #666;\n",
              "  }\n",
              "\n",
              "  .colab-df-quickchart {\n",
              "    background-color: var(--bg-color);\n",
              "    border: none;\n",
              "    border-radius: 50%;\n",
              "    cursor: pointer;\n",
              "    display: none;\n",
              "    fill: var(--fill-color);\n",
              "    height: 32px;\n",
              "    padding: 0;\n",
              "    width: 32px;\n",
              "  }\n",
              "\n",
              "  .colab-df-quickchart:hover {\n",
              "    background-color: var(--hover-bg-color);\n",
              "    box-shadow: 0 1px 2px rgba(60, 64, 67, 0.3), 0 1px 3px 1px rgba(60, 64, 67, 0.15);\n",
              "    fill: var(--button-hover-fill-color);\n",
              "  }\n",
              "\n",
              "  .colab-df-quickchart-complete:disabled,\n",
              "  .colab-df-quickchart-complete:disabled:hover {\n",
              "    background-color: var(--disabled-bg-color);\n",
              "    fill: var(--disabled-fill-color);\n",
              "    box-shadow: none;\n",
              "  }\n",
              "\n",
              "  .colab-df-spinner {\n",
              "    border: 2px solid var(--fill-color);\n",
              "    border-color: transparent;\n",
              "    border-bottom-color: var(--fill-color);\n",
              "    animation:\n",
              "      spin 1s steps(1) infinite;\n",
              "  }\n",
              "\n",
              "  @keyframes spin {\n",
              "    0% {\n",
              "      border-color: transparent;\n",
              "      border-bottom-color: var(--fill-color);\n",
              "      border-left-color: var(--fill-color);\n",
              "    }\n",
              "    20% {\n",
              "      border-color: transparent;\n",
              "      border-left-color: var(--fill-color);\n",
              "      border-top-color: var(--fill-color);\n",
              "    }\n",
              "    30% {\n",
              "      border-color: transparent;\n",
              "      border-left-color: var(--fill-color);\n",
              "      border-top-color: var(--fill-color);\n",
              "      border-right-color: var(--fill-color);\n",
              "    }\n",
              "    40% {\n",
              "      border-color: transparent;\n",
              "      border-right-color: var(--fill-color);\n",
              "      border-top-color: var(--fill-color);\n",
              "    }\n",
              "    60% {\n",
              "      border-color: transparent;\n",
              "      border-right-color: var(--fill-color);\n",
              "    }\n",
              "    80% {\n",
              "      border-color: transparent;\n",
              "      border-right-color: var(--fill-color);\n",
              "      border-bottom-color: var(--fill-color);\n",
              "    }\n",
              "    90% {\n",
              "      border-color: transparent;\n",
              "      border-bottom-color: var(--fill-color);\n",
              "    }\n",
              "  }\n",
              "</style>\n",
              "\n",
              "      <script>\n",
              "        async function quickchart(key) {\n",
              "          const quickchartButtonEl =\n",
              "            document.querySelector('#' + key + ' button');\n",
              "          quickchartButtonEl.disabled = true;  // To prevent multiple clicks.\n",
              "          quickchartButtonEl.classList.add('colab-df-spinner');\n",
              "          try {\n",
              "            const charts = await google.colab.kernel.invokeFunction(\n",
              "                'suggestCharts', [key], {});\n",
              "          } catch (error) {\n",
              "            console.error('Error during call to suggestCharts:', error);\n",
              "          }\n",
              "          quickchartButtonEl.classList.remove('colab-df-spinner');\n",
              "          quickchartButtonEl.classList.add('colab-df-quickchart-complete');\n",
              "        }\n",
              "        (() => {\n",
              "          let quickchartButtonEl =\n",
              "            document.querySelector('#df-c8b60995-af08-4ff1-a957-121b8b872f41 button');\n",
              "          quickchartButtonEl.style.display =\n",
              "            google.colab.kernel.accessAllowed ? 'block' : 'none';\n",
              "        })();\n",
              "      </script>\n",
              "    </div>\n",
              "\n",
              "    </div>\n",
              "  </div>\n"
            ],
            "application/vnd.google.colaboratory.intrinsic+json": {
              "type": "dataframe",
              "variable_name": "df",
              "summary": "{\n  \"name\": \"df\",\n  \"rows\": 1888,\n  \"fields\": [\n    {\n      \"column\": \"age\",\n      \"properties\": {\n        \"dtype\": \"number\",\n        \"std\": 9,\n        \"min\": 29,\n        \"max\": 77,\n        \"num_unique_values\": 41,\n        \"samples\": [\n          46,\n          66,\n          48\n        ],\n        \"semantic_type\": \"\",\n        \"description\": \"\"\n      }\n    },\n    {\n      \"column\": \"sex\",\n      \"properties\": {\n        \"dtype\": \"number\",\n        \"std\": 0,\n        \"min\": 0,\n        \"max\": 1,\n        \"num_unique_values\": 2,\n        \"samples\": [\n          0,\n          1\n        ],\n        \"semantic_type\": \"\",\n        \"description\": \"\"\n      }\n    },\n    {\n      \"column\": \"cp\",\n      \"properties\": {\n        \"dtype\": \"number\",\n        \"std\": 1,\n        \"min\": 0,\n        \"max\": 4,\n        \"num_unique_values\": 5,\n        \"samples\": [\n          2,\n          4\n        ],\n        \"semantic_type\": \"\",\n        \"description\": \"\"\n      }\n    },\n    {\n      \"column\": \"trestbps\",\n      \"properties\": {\n        \"dtype\": \"number\",\n        \"std\": 17,\n        \"min\": 94,\n        \"max\": 200,\n        \"num_unique_values\": 50,\n        \"samples\": [\n          104,\n          117\n        ],\n        \"semantic_type\": \"\",\n        \"description\": \"\"\n      }\n    },\n    {\n      \"column\": \"chol\",\n      \"properties\": {\n        \"dtype\": \"number\",\n        \"std\": 51,\n        \"min\": 126,\n        \"max\": 564,\n        \"num_unique_values\": 152,\n        \"samples\": [\n          277,\n          169\n        ],\n        \"semantic_type\": \"\",\n        \"description\": \"\"\n      }\n    },\n    {\n      \"column\": \"fbs\",\n      \"properties\": {\n        \"dtype\": \"number\",\n        \"std\": 0,\n        \"min\": 0,\n        \"max\": 1,\n        \"num_unique_values\": 2,\n        \"samples\": [\n          0,\n          1\n        ],\n        \"semantic_type\": \"\",\n        \"description\": \"\"\n      }\n    },\n    {\n      \"column\": \"restecg\",\n      \"properties\": {\n        \"dtype\": \"number\",\n        \"std\": 0,\n        \"min\": 0,\n        \"max\": 2,\n        \"num_unique_values\": 3,\n        \"samples\": [\n          0,\n          1\n        ],\n        \"semantic_type\": \"\",\n        \"description\": \"\"\n      }\n    },\n    {\n      \"column\": \"thalachh\",\n      \"properties\": {\n        \"dtype\": \"number\",\n        \"std\": 23,\n        \"min\": 71,\n        \"max\": 202,\n        \"num_unique_values\": 92,\n        \"samples\": [\n          159,\n          152\n        ],\n        \"semantic_type\": \"\",\n        \"description\": \"\"\n      }\n    },\n    {\n      \"column\": \"exang\",\n      \"properties\": {\n        \"dtype\": \"number\",\n        \"std\": 0,\n        \"min\": 0,\n        \"max\": 1,\n        \"num_unique_values\": 2,\n        \"samples\": [\n          1,\n          0\n        ],\n        \"semantic_type\": \"\",\n        \"description\": \"\"\n      }\n    },\n    {\n      \"column\": \"oldpeak\",\n      \"properties\": {\n        \"dtype\": \"number\",\n        \"std\": 1.1613437431552505,\n        \"min\": 0.0,\n        \"max\": 6.2,\n        \"num_unique_values\": 40,\n        \"samples\": [\n          1.9,\n          3.0\n        ],\n        \"semantic_type\": \"\",\n        \"description\": \"\"\n      }\n    },\n    {\n      \"column\": \"slope\",\n      \"properties\": {\n        \"dtype\": \"number\",\n        \"std\": 0,\n        \"min\": 0,\n        \"max\": 3,\n        \"num_unique_values\": 4,\n        \"samples\": [\n          2,\n          3\n        ],\n        \"semantic_type\": \"\",\n        \"description\": \"\"\n      }\n    },\n    {\n      \"column\": \"ca\",\n      \"properties\": {\n        \"dtype\": \"number\",\n        \"std\": 1,\n        \"min\": 0,\n        \"max\": 4,\n        \"num_unique_values\": 5,\n        \"samples\": [\n          2,\n          4\n        ],\n        \"semantic_type\": \"\",\n        \"description\": \"\"\n      }\n    },\n    {\n      \"column\": \"thal\",\n      \"properties\": {\n        \"dtype\": \"number\",\n        \"std\": 1,\n        \"min\": 0,\n        \"max\": 7,\n        \"num_unique_values\": 6,\n        \"samples\": [\n          1,\n          2\n        ],\n        \"semantic_type\": \"\",\n        \"description\": \"\"\n      }\n    },\n    {\n      \"column\": \"target\",\n      \"properties\": {\n        \"dtype\": \"number\",\n        \"std\": 0,\n        \"min\": 0,\n        \"max\": 1,\n        \"num_unique_values\": 2,\n        \"samples\": [\n          0,\n          1\n        ],\n        \"semantic_type\": \"\",\n        \"description\": \"\"\n      }\n    }\n  ]\n}"
            }
          },
          "metadata": {},
          "execution_count": 1
        }
      ]
    },
    {
      "cell_type": "code",
      "source": [
        "#partimos en entrenamiento y test\n",
        "from sklearn.model_selection import train_test_split\n",
        "\n",
        "#definir variables predictoras\n",
        "X = df.drop(\"target\", axis=1)\n",
        "y = df[\"target\"]\n",
        "\n",
        "#dividir en entrenamiento y prueba\n",
        "X_train, X_test, y_train, y_test = train_test_split(X, y, test_size=0.2, random_state=42, stratify=y)\n",
        "\n",
        "print(\"filas entrenamiento\", X_train.shape[0])\n",
        "print(\"filas prueba\", X_test.shape[0])"
      ],
      "metadata": {
        "colab": {
          "base_uri": "https://localhost:8080/"
        },
        "id": "sVtvMNj06Dj1",
        "outputId": "4f1b9653-9a69-42c7-84ea-275abfb29c1e"
      },
      "execution_count": null,
      "outputs": [
        {
          "output_type": "stream",
          "name": "stdout",
          "text": [
            "filas entrenamiento 1510\n",
            "filas prueba 378\n"
          ]
        }
      ]
    },
    {
      "cell_type": "code",
      "source": [
        "from sklearn.model_selection import StratifiedKFold, cross_validate\n",
        "from sklearn.ensemble import RandomForestClassifier\n",
        "\n",
        "# Métricas a evaluar\n",
        "metricas = ['accuracy', 'precision', 'recall', 'f1']\n",
        "\n",
        "# Definir modelo\n",
        "rf = RandomForestClassifier(random_state=42, n_jobs=-1)\n",
        "\n",
        "# Definir folds estratificados\n",
        "cv = StratifiedKFold(\n",
        "    n_splits=5,\n",
        "    shuffle=True,\n",
        "    random_state=42\n",
        ")\n",
        "\n",
        "# Validación cruzada directamente\n",
        "scores_rf = cross_validate(\n",
        "    rf, X_train, y_train,\n",
        "    scoring=metricas, cv=cv, n_jobs=-1, return_train_score=False\n",
        ")\n",
        "\n",
        "# Resultados promedio y desviación\n",
        "print(\"Resultados CV (5-fold) - Random Forest\")\n",
        "for m in metricas:\n",
        "    vals = scores_rf[f\"test_{m}\"]\n",
        "    print(f\"{m:>9}: {vals.mean():.3f} ± {vals.std():.3f}\")\n"
      ],
      "metadata": {
        "colab": {
          "base_uri": "https://localhost:8080/"
        },
        "id": "MZ2yYm_H6Ol3",
        "outputId": "055fa947-4483-4c6d-ec68-2fe4895d0708"
      },
      "execution_count": null,
      "outputs": [
        {
          "output_type": "stream",
          "name": "stdout",
          "text": [
            "Resultados CV (5-fold) - Random Forest\n",
            " accuracy: 0.968 ± 0.007\n",
            "precision: 0.969 ± 0.007\n",
            "   recall: 0.969 ± 0.007\n",
            "       f1: 0.969 ± 0.007\n"
          ]
        }
      ]
    },
    {
      "cell_type": "code",
      "source": [
        "# 1) Entrenar el modelo final con TODO X_train, y_train\n",
        "rf.fit(X_train, y_train)\n",
        "\n",
        "# 2) Evaluar en el conjunto de prueba\n",
        "from sklearn.metrics import classification_report, confusion_matrix, roc_auc_score\n",
        "\n",
        "y_pred = rf.predict(X_test)\n",
        "y_proba = rf.predict_proba(X_test)[:, 1]  # si quieres AUC u umbrales\n",
        "\n",
        "print(\"Matriz de confusión\")\n",
        "print(confusion_matrix(y_test, y_pred))\n",
        "print(\"\\nReporte de clasificación\")\n",
        "print(classification_report(y_test, y_pred))\n",
        "\n",
        "# (opcional) AUC si es problema binario\n",
        "try:\n",
        "    print(\"ROC AUC:\", roc_auc_score(y_test, y_proba))\n",
        "except Exception as e:\n",
        "    pass\n"
      ],
      "metadata": {
        "colab": {
          "base_uri": "https://localhost:8080/"
        },
        "id": "edWDn3nh71KN",
        "outputId": "8b29372b-ac21-4639-d91e-c8f91ad5a7c5"
      },
      "execution_count": null,
      "outputs": [
        {
          "output_type": "stream",
          "name": "stdout",
          "text": [
            "Matriz de confusión\n",
            "[[177   5]\n",
            " [  1 195]]\n",
            "\n",
            "Reporte de clasificación\n",
            "              precision    recall  f1-score   support\n",
            "\n",
            "           0       0.99      0.97      0.98       182\n",
            "           1       0.97      0.99      0.98       196\n",
            "\n",
            "    accuracy                           0.98       378\n",
            "   macro avg       0.98      0.98      0.98       378\n",
            "weighted avg       0.98      0.98      0.98       378\n",
            "\n",
            "ROC AUC: 0.9987805561785154\n"
          ]
        }
      ]
    },
    {
      "cell_type": "markdown",
      "source": [
        "# Vamos a pasar el modelo a producción"
      ],
      "metadata": {
        "id": "JIP4Oc5b09mX"
      }
    },
    {
      "cell_type": "code",
      "source": [
        "#importamos joblib\n",
        "import joblib\n",
        "\n",
        "# 2) Guardar modelo entrenado\n",
        "joblib.dump(rf, \"random_forest_model.joblib\")"
      ],
      "metadata": {
        "colab": {
          "base_uri": "https://localhost:8080/"
        },
        "id": "8wNHI3wz-Vgi",
        "outputId": "71f67a22-6e28-4d5d-ac96-f4cabed6cf50"
      },
      "execution_count": null,
      "outputs": [
        {
          "output_type": "execute_result",
          "data": {
            "text/plain": [
              "['random_forest_model.joblib']"
            ]
          },
          "metadata": {},
          "execution_count": 5
        }
      ]
    },
    {
      "cell_type": "code",
      "source": [
        "#Exploremos un poco ese archivo\n",
        "import numpy as np\n",
        "import pandas as pd\n",
        "\n",
        "# Cargar el modelo entrenado\n",
        "rf = joblib.load('random_forest_model.joblib')\n",
        "\n",
        "# Atributos clave del RandomForest entrenado\n",
        "print(type(rf).__name__)\n",
        "print('n_estimators', rf.n_estimators)\n",
        "print('classes:', rf.classes_)\n",
        "print('n_feauteres', rf.n_features_in_)\n",
        "print('nombres', rf.get_params())"
      ],
      "metadata": {
        "colab": {
          "base_uri": "https://localhost:8080/"
        },
        "id": "cNzllLfs_krB",
        "outputId": "44818f90-92b1-464e-face-285f85f4356f"
      },
      "execution_count": null,
      "outputs": [
        {
          "output_type": "stream",
          "name": "stdout",
          "text": [
            "RandomForestClassifier\n",
            "n_estimators 100\n",
            "classes: [0 1]\n",
            "n_feauteres 13\n",
            "nombres {'bootstrap': True, 'ccp_alpha': 0.0, 'class_weight': None, 'criterion': 'gini', 'max_depth': None, 'max_features': 'sqrt', 'max_leaf_nodes': None, 'max_samples': None, 'min_impurity_decrease': 0.0, 'min_samples_leaf': 1, 'min_samples_split': 2, 'min_weight_fraction_leaf': 0.0, 'monotonic_cst': None, 'n_estimators': 100, 'n_jobs': -1, 'oob_score': False, 'random_state': 42, 'verbose': 0, 'warm_start': False}\n"
          ]
        }
      ]
    },
    {
      "cell_type": "markdown",
      "source": [
        "### Interpretación rápida de  resultados\n",
        "\n",
        "- **thal (14,42%)** – Tipo de talasemia del paciente; parece ser la variable más influyente para predecir riesgo de ataque cardíaco.  \n",
        "- **cp (14,22%)** – Tipo de dolor de pecho; muy relevante para el diagnóstico.  \n",
        "- **thalachh (10,89%)** – Máxima frecuencia cardíaca alcanzada; indica la capacidad de esfuerzo.  \n",
        "- **oldpeak (9,14%)** – Depresión del segmento ST; importante en electrocardiogramas.  \n",
        "- **ca (8,47%)** – Número de vasos mayores visualizados en fluoroscopia.  \n",
        "- **chol (8,23%)** – Nivel de colesterol.  \n",
        "- **age (8,14%)** – Edad del paciente.  \n",
        "- **slope (8,07%)** – Pendiente del segmento ST.  \n",
        "- **trestbps (7,44%)** – Presión arterial en reposo.  \n",
        "- **restecg (3,60%)** – Resultados del electrocardiograma en reposo.  \n"
      ],
      "metadata": {
        "id": "VOciMedeAK49"
      }
    },
    {
      "cell_type": "code",
      "source": [
        "# Si aún tienes X_train a mano:\n",
        "feature_names = list(X_train.columns)\n",
        "importances = rf.feature_importances_\n",
        "top_idx = np.argsort(importances)[::-1][:10]\n",
        "\n",
        "print(\"\\nTop 10 features:\")\n",
        "for i in top_idx:\n",
        "    print(f\"{feature_names[i]:<20} {importances[i]:.4f}\")\n"
      ],
      "metadata": {
        "colab": {
          "base_uri": "https://localhost:8080/"
        },
        "id": "gmfRkeQY_qzK",
        "outputId": "70ff986c-4127-4d8d-9728-4ae7629ce768"
      },
      "execution_count": null,
      "outputs": [
        {
          "output_type": "stream",
          "name": "stdout",
          "text": [
            "\n",
            "Top 10 features:\n",
            "thal                 0.1442\n",
            "cp                   0.1422\n",
            "thalachh             0.1089\n",
            "oldpeak              0.0914\n",
            "ca                   0.0847\n",
            "chol                 0.0823\n",
            "age                  0.0814\n",
            "slope                0.0807\n",
            "trestbps             0.0744\n",
            "restecg              0.0360\n"
          ]
        }
      ]
    },
    {
      "cell_type": "code",
      "source": [
        "#hagamos una sola predicción\n",
        "\n",
        "\n",
        "import pandas as pd\n",
        "\n",
        "# 1. Cargar el modelo entrenado\n",
        "rf_joblib = joblib.load(\"random_forest_model.joblib\")\n",
        "\n",
        "# 2. Crear un DataFrame con la observación que quieres predecir\n",
        "# Debe tener las mismas columnas y en el mismo orden que X_train\n",
        "nueva_muestra = pd.DataFrame([{\n",
        "    \"age\": 63,\n",
        "    \"sex\": 1,\n",
        "    \"cp\": 3,\n",
        "    \"trestbps\": 145,\n",
        "    \"chol\": 233,\n",
        "    \"fbs\": 1,\n",
        "    \"restecg\": 0,\n",
        "    \"thalachh\": 150,\n",
        "    \"exang\": 0,\n",
        "    \"oldpeak\": 2.3,\n",
        "    \"slope\": 0,\n",
        "    \"ca\": 0,\n",
        "    \"thal\": 1\n",
        "}])\n",
        "\n",
        "# 3. Hacer la predicción\n",
        "prediccion = rf_joblib.predict(nueva_muestra)[0]\n",
        "probabilidad = rf_joblib.predict_proba(nueva_muestra)[0][1]\n",
        "\n",
        "print(f\"Predicción: {prediccion} (1 = más riesgo, 0 = menos riesgo)\")\n",
        "print(f\"Probabilidad de riesgo: {probabilidad:.2f}\")\n"
      ],
      "metadata": {
        "colab": {
          "base_uri": "https://localhost:8080/"
        },
        "id": "Ghl6AoASAji3",
        "outputId": "d8efd742-5ff2-4a17-9c64-0d16ca1ab89a"
      },
      "execution_count": null,
      "outputs": [
        {
          "output_type": "stream",
          "name": "stdout",
          "text": [
            "Predicción: 1 (1 = más riesgo, 0 = menos riesgo)\n",
            "Probabilidad de riesgo: 0.99\n"
          ]
        }
      ]
    },
    {
      "cell_type": "markdown",
      "source": [
        "# Creando un servicio web"
      ],
      "metadata": {
        "id": "dhx4fZBEp4DO"
      }
    },
    {
      "cell_type": "code",
      "source": [
        "#esta sección descarga las dependencias para crear un servidor web local\n",
        "#sin embargo el entorno de colab es aislado, por lo cual usaremos un servicio\n",
        "#llamado ngrok que crea un tunel desde el servicio web local, hacia el exterior\n",
        "!pip -q install pyngrok fastapi uvicorn\n"
      ],
      "metadata": {
        "id": "-26K4Srjp3Yg"
      },
      "execution_count": null,
      "outputs": []
    },
    {
      "cell_type": "code",
      "source": [
        "#debemos registrarnos en https://ngrok.com/\n",
        "#hasta la fecha (Agosto 2025) no es necesario registrar tarjeta de crédito o débito\n",
        "#Vamos a obtener un token de autenticación que podremos pegar acá\n",
        "import getpass\n",
        "\n",
        "from pyngrok import ngrok, conf\n",
        "\n",
        "# 1) Authtoken (no lo pegues en claro)\n",
        "from getpass import getpass\n",
        "NGROK_TOKEN = getpass(\"Pega tu ngrok authtoken: \")\n",
        "\n",
        "from pyngrok import ngrok\n",
        "ngrok.set_auth_token(NGROK_TOKEN)"
      ],
      "metadata": {
        "colab": {
          "base_uri": "https://localhost:8080/"
        },
        "id": "1q65jVFdqSwX",
        "outputId": "c60ef019-5cce-4edd-c349-477651b8b41e"
      },
      "execution_count": null,
      "outputs": [
        {
          "output_type": "stream",
          "name": "stdout",
          "text": [
            "Pega tu ngrok authtoken: ··········\n"
          ]
        }
      ]
    },
    {
      "cell_type": "code",
      "source": [
        "#esta sección cierra túneles  de salida para la aplicación\n",
        "#como máximo podemos crear 3 tuneles (aunque con uno es suficiente)\n",
        "#pero cada vez que ejecutamos la  celda hacia el final, se puede crear uno, pasando el límite\n",
        "#por lo cual se agrega código para cerrar dichos túneles\n",
        "from pyngrok import ngrok\n",
        "\n",
        "# Ver túneles activos (opcional)\n",
        "for t in ngrok.get_tunnels():\n",
        "    print(\"Activo:\", t.public_url, \"->\", t.config.get(\"addr\"))\n",
        "\n",
        "# Cerrar TODOS los túneles\n",
        "for t in ngrok.get_tunnels():\n",
        "    try:\n",
        "        ngrok.disconnect(t.public_url)\n",
        "    except Exception as e:\n",
        "        print(\"No se pudo cerrar\", t.public_url, e)\n",
        "\n",
        "# Matar el proceso del agente\n",
        "ngrok.kill()\n"
      ],
      "metadata": {
        "id": "cChVhdE3wSjk"
      },
      "execution_count": null,
      "outputs": []
    },
    {
      "cell_type": "code",
      "source": [
        "#esta sección crea la página web que va a ser expuesta\n",
        "#dicha página carga el modelo entrenado random_forest_model.joblib\n",
        "\n",
        "%%writefile main.py\n",
        "from fastapi import FastAPI, Request\n",
        "from fastapi.responses import HTMLResponse, JSONResponse\n",
        "import pandas as pd\n",
        "import joblib\n",
        "\n",
        "app = FastAPI()\n",
        "model = joblib.load(\"random_forest_model.joblib\")\n",
        "\n",
        "FEATURES = ['age', 'sex', 'cp', 'trestbps', 'chol', 'fbs', 'restecg', 'thalachh', 'exang', 'oldpeak', 'slope', 'ca', 'thal']\n",
        "\n",
        "@app.get(\"/\", response_class=HTMLResponse)\n",
        "def form():\n",
        "    html = \"\"\"\n",
        "    <!DOCTYPE html>\n",
        "    <html>\n",
        "    <head>\n",
        "        <title>Heart Risk Prediction</title>\n",
        "        <style>\n",
        "            body { font-family: Arial; max-width: 800px; margin: 40px auto }\n",
        "            input, select { width: 160px; margin: 4px }\n",
        "            .row { display: grid; grid-template-columns: repeat(3, 1fr); gap: 12px; margin-bottom: 20px }\n",
        "            button { padding: 10px 20px }\n",
        "            #output { margin-top: 20px; font-size: 16px; font-weight: bold }\n",
        "        </style>\n",
        "    </head>\n",
        "    <body>\n",
        "        <h2>Heart Disease Risk Prediction</h2>\n",
        "        <div class=\"row\">\n",
        "        <div><label>age</label><br><input type=\"number\" id=\"age\" step=\"any\" value=\"63\"></div><div><label>Gender</label><br><select id=\"sex\"><option value=\"1\" selected>Male</option><option value=\"0\">Female</option></select></div><div><label>Chest Pain Type</label><br><select id=\"cp\"><option value=\"0\">Typical angina</option><option value=\"1\">Atypical angina</option><option value=\"2\">Non-anginal pain</option><option value=\"3\" selected>Asymptomatic</option></select></div><div><label>trestbps</label><br><input type=\"number\" id=\"trestbps\" step=\"any\" value=\"145\"></div><div><label>chol</label><br><input type=\"number\" id=\"chol\" step=\"any\" value=\"233\"></div><div><label>Fasting Blood Sugar > 120 mg/dl</label><br><select id=\"fbs\"><option value=\"1\" selected>True</option><option value=\"0\">False</option></select></div><div><label>Resting ECG Results</label><br><select id=\"restecg\"><option value=\"0\" selected>Normal</option><option value=\"1\">ST-T wave abnormality</option><option value=\"2\">Left ventricular hypertrophy</option></select></div><div><label>thalachh</label><br><input type=\"number\" id=\"thalachh\" step=\"any\" value=\"150\"></div><div><label>Exercise-Induced Angina</label><br><select id=\"exang\"><option value=\"1\">Yes</option><option value=\"0\" selected>No</option></select></div><div><label>oldpeak</label><br><input type=\"number\" id=\"oldpeak\" step=\"any\" value=\"2.3\"></div><div><label>Slope of the Peak ST Segment</label><br><select id=\"slope\"><option value=\"0\" selected>Upsloping</option><option value=\"1\">Flat</option><option value=\"2\">Downsloping</option></select></div><div><label>Major Vessels Colored by Fluoroscopy</label><br><select id=\"ca\"><option value=\"0\" selected>0</option><option value=\"1\">1</option><option value=\"2\">2</option><option value=\"3\">3</option></select></div><div><label>Thalassemia Type</label><br><select id=\"thal\"><option value=\"1\" selected>Normal</option><option value=\"2\">Fixed defect</option><option value=\"3\">Reversible defect</option></select></div>\n",
        "        </div>\n",
        "        <button onclick=\"enviar()\">Predecir</button>\n",
        "        <div id=\"output\"></div>\n",
        "        <script>\n",
        "        async function enviar() {\n",
        "            const data = {};\n",
        "            const campos = ['age', 'sex', 'cp', 'trestbps', 'chol', 'fbs', 'restecg', 'thalachh', 'exang', 'oldpeak', 'slope', 'ca', 'thal'];\n",
        "            campos.forEach(c => {\n",
        "                const val = document.getElementById(c).value;\n",
        "                data[c] = parseFloat(val);\n",
        "            });\n",
        "            const res = await fetch(\"/predict\", {\n",
        "                method: \"POST\",\n",
        "                headers: { \"Content-Type\": \"application/json\" },\n",
        "                body: JSON.stringify(data)\n",
        "            });\n",
        "            const j = await res.json();\n",
        "            document.getElementById(\"output\").innerText =\n",
        "                `Predicción: ${j.prediccion} (1=riesgo) | Probabilidad: ${j.probabilidad_riesgo.toFixed(3)}`;\n",
        "        }\n",
        "        </script>\n",
        "    </body>\n",
        "    </html>\n",
        "    \"\"\"\n",
        "    return HTMLResponse(content=html)\n",
        "\n",
        "@app.post(\"/predict\")\n",
        "async def predict(data: dict):\n",
        "    try:\n",
        "        df = pd.DataFrame([data])\n",
        "        df = df[FEATURES]\n",
        "        pred = int(model.predict(df)[0])\n",
        "        prob = float(model.predict_proba(df)[0][1])\n",
        "        return { \"prediccion\": pred, \"probabilidad_riesgo\": prob }\n",
        "    except Exception as e:\n",
        "        return JSONResponse({ \"error\": str(e) }, status_code=400)"
      ],
      "metadata": {
        "colab": {
          "base_uri": "https://localhost:8080/"
        },
        "id": "wA6Yx3I0t-YM",
        "outputId": "e4e01bf2-80a5-4f83-cc12-4463419e7530"
      },
      "execution_count": null,
      "outputs": [
        {
          "output_type": "stream",
          "name": "stdout",
          "text": [
            "Writing main.py\n"
          ]
        }
      ]
    },
    {
      "cell_type": "code",
      "source": [
        "# (Re)inicia el server en segundo plano UNA sola vez\n",
        "!pkill -f \"uvicorn\" || true\n",
        "!nohup uvicorn main:app --host 0.0.0.0 --port 8000 > server.log 2>&1 &\n",
        "!tail -n 20 server.log\n"
      ],
      "metadata": {
        "colab": {
          "base_uri": "https://localhost:8080/"
        },
        "id": "OskfXdh7uXlp",
        "outputId": "cc2c46a9-a2dd-4361-f03b-5cd9f4322b5b"
      },
      "execution_count": null,
      "outputs": [
        {
          "output_type": "stream",
          "name": "stdout",
          "text": [
            "^C\n"
          ]
        }
      ]
    },
    {
      "cell_type": "code",
      "source": [
        "# Crear túnel HTTP\n",
        "# En esta celda es dónde realmente creamos el tunel\n",
        "public_url = ngrok.connect(addr=8000, proto=\"http\")  # <-- clave\n",
        "print(\"URL pública:\", public_url)\n"
      ],
      "metadata": {
        "colab": {
          "base_uri": "https://localhost:8080/"
        },
        "id": "a1IicK2pudWS",
        "outputId": "1c23cf14-d4c7-4039-8eaa-7b11f2358f26"
      },
      "execution_count": null,
      "outputs": [
        {
          "output_type": "stream",
          "name": "stdout",
          "text": [
            "URL pública: NgrokTunnel: \"https://78cad4b18e47.ngrok-free.app\" -> \"http://localhost:8000\"\n"
          ]
        }
      ]
    }
  ]
}