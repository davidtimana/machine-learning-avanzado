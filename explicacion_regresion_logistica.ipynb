{
  "nbformat": 4,
  "nbformat_minor": 0,
  "metadata": {
    "colab": {
      "provenance": []
    },
    "kernelspec": {
      "name": "python3",
      "display_name": "Python 3"
    },
    "language_info": {
      "name": "python"
    }
  },
  "cells": [
    {
      "cell_type": "markdown",
      "source": [
        "# Dataset de Cancer de Seno\n",
        "\n",
        "Podemos encontrar toda la información en la documentación oficial de scikit-learn en el siguiente enlace https://scikit-learn.org/stable/datasets/toy_dataset.html#breast-cancer-dataset\n",
        "\n"
      ],
      "metadata": {
        "id": "df4mRStsjkU8"
      }
    },
    {
      "cell_type": "code",
      "source": [
        "from sklearn.datasets import load_breast_cancer\n",
        "from sklearn.linear_model import LogisticRegression\n",
        "from sklearn.model_selection import train_test_split\n",
        "from sklearn.preprocessing import StandardScaler\n",
        "from sklearn.metrics import classification_report\n",
        "from sklearn.model_selection import cross_val_score\n",
        "\n",
        "# Cargar dataset\n",
        "data = load_breast_cancer()\n",
        "X= data.data\n",
        "y = data.target# 0 = malignant, 1 = benign\n",
        "\n",
        "#exploremos los datos\n",
        "print(\"--------------------------Observemos la data X-------------------------\")\n",
        "contador = 0\n",
        "for carac in data.feature_names:\n",
        "  contador+=1\n",
        "  print(contador, carac)\n",
        "\n",
        "print(\"Tamaño X\", X.shape)\n",
        "print(\"Primera fila\", X[0])\n"
      ],
      "metadata": {
        "colab": {
          "base_uri": "https://localhost:8080/"
        },
        "id": "yB-itTA9k2-l",
        "outputId": "2340cb6c-12db-415d-84bf-5631559ecf8d"
      },
      "execution_count": null,
      "outputs": [
        {
          "output_type": "stream",
          "name": "stdout",
          "text": [
            "--------------------------Observemos la data X-------------------------\n",
            "1 mean radius\n",
            "2 mean texture\n",
            "3 mean perimeter\n",
            "4 mean area\n",
            "5 mean smoothness\n",
            "6 mean compactness\n",
            "7 mean concavity\n",
            "8 mean concave points\n",
            "9 mean symmetry\n",
            "10 mean fractal dimension\n",
            "11 radius error\n",
            "12 texture error\n",
            "13 perimeter error\n",
            "14 area error\n",
            "15 smoothness error\n",
            "16 compactness error\n",
            "17 concavity error\n",
            "18 concave points error\n",
            "19 symmetry error\n",
            "20 fractal dimension error\n",
            "21 worst radius\n",
            "22 worst texture\n",
            "23 worst perimeter\n",
            "24 worst area\n",
            "25 worst smoothness\n",
            "26 worst compactness\n",
            "27 worst concavity\n",
            "28 worst concave points\n",
            "29 worst symmetry\n",
            "30 worst fractal dimension\n",
            "Tamaño X (569, 30)\n",
            "Primera fila [1.799e+01 1.038e+01 1.228e+02 1.001e+03 1.184e-01 2.776e-01 3.001e-01\n",
            " 1.471e-01 2.419e-01 7.871e-02 1.095e+00 9.053e-01 8.589e+00 1.534e+02\n",
            " 6.399e-03 4.904e-02 5.373e-02 1.587e-02 3.003e-02 6.193e-03 2.538e+01\n",
            " 1.733e+01 1.846e+02 2.019e+03 1.622e-01 6.656e-01 7.119e-01 2.654e-01\n",
            " 4.601e-01 1.189e-01]\n"
          ]
        }
      ]
    },
    {
      "cell_type": "markdown",
      "source": [
        "### Observemos la data y"
      ],
      "metadata": {
        "id": "DnZzOGLvoIRa"
      }
    },
    {
      "cell_type": "code",
      "source": [
        "print(\"-----------Observemos la data y------------------\")\n",
        "print(\"Tamaño y: \", y.shape)\n",
        "print(\"Primera fila \", y)"
      ],
      "metadata": {
        "colab": {
          "base_uri": "https://localhost:8080/"
        },
        "id": "xqA0g5C-oFIO",
        "outputId": "1e7b26a5-c849-4c2b-94de-e500060bd06c"
      },
      "execution_count": null,
      "outputs": [
        {
          "output_type": "stream",
          "name": "stdout",
          "text": [
            "-----------Observemos la data y------------------\n",
            "Tamaño y:  (569,)\n",
            "Primera fila  [0 0 0 0 0 0 0 0 0 0 0 0 0 0 0 0 0 0 0 1 1 1 0 0 0 0 0 0 0 0 0 0 0 0 0 0 0\n",
            " 1 0 0 0 0 0 0 0 0 1 0 1 1 1 1 1 0 0 1 0 0 1 1 1 1 0 1 0 0 1 1 1 1 0 1 0 0\n",
            " 1 0 1 0 0 1 1 1 0 0 1 0 0 0 1 1 1 0 1 1 0 0 1 1 1 0 0 1 1 1 1 0 1 1 0 1 1\n",
            " 1 1 1 1 1 1 0 0 0 1 0 0 1 1 1 0 0 1 0 1 0 0 1 0 0 1 1 0 1 1 0 1 1 1 1 0 1\n",
            " 1 1 1 1 1 1 1 1 0 1 1 1 1 0 0 1 0 1 1 0 0 1 1 0 0 1 1 1 1 0 1 1 0 0 0 1 0\n",
            " 1 0 1 1 1 0 1 1 0 0 1 0 0 0 0 1 0 0 0 1 0 1 0 1 1 0 1 0 0 0 0 1 1 0 0 1 1\n",
            " 1 0 1 1 1 1 1 0 0 1 1 0 1 1 0 0 1 0 1 1 1 1 0 1 1 1 1 1 0 1 0 0 0 0 0 0 0\n",
            " 0 0 0 0 0 0 0 1 1 1 1 1 1 0 1 0 1 1 0 1 1 0 1 0 0 1 1 1 1 1 1 1 1 1 1 1 1\n",
            " 1 0 1 1 0 1 0 1 1 1 1 1 1 1 1 1 1 1 1 1 1 0 1 1 1 0 1 0 1 1 1 1 0 0 0 1 1\n",
            " 1 1 0 1 0 1 0 1 1 1 0 1 1 1 1 1 1 1 0 0 0 1 1 1 1 1 1 1 1 1 1 1 0 0 1 0 0\n",
            " 0 1 0 0 1 1 1 1 1 0 1 1 1 1 1 0 1 1 1 0 1 1 0 0 1 1 1 1 1 1 0 1 1 1 1 1 1\n",
            " 1 0 1 1 1 1 1 0 1 1 0 1 1 1 1 1 1 1 1 1 1 1 1 0 1 0 0 1 0 1 1 1 1 1 0 1 1\n",
            " 0 1 0 1 1 0 1 0 1 1 1 1 1 1 1 1 0 0 1 1 1 1 1 1 0 1 1 1 1 1 1 1 1 1 1 0 1\n",
            " 1 1 1 1 1 1 0 1 0 1 1 0 1 1 1 1 1 0 0 1 0 1 0 1 1 1 1 1 0 1 1 0 1 0 1 0 0\n",
            " 1 1 1 0 1 1 1 1 1 1 1 1 1 1 1 0 1 0 0 1 1 1 1 1 1 1 1 1 1 1 1 1 1 1 1 1 1\n",
            " 1 1 1 1 1 1 1 0 0 0 0 0 0 1]\n"
          ]
        }
      ]
    },
    {
      "cell_type": "code",
      "execution_count": null,
      "metadata": {
        "id": "RFvpbMoJia0r"
      },
      "outputs": [],
      "source": [
        "\n",
        "# Dividir datos\n",
        "X_train, X_test, y_train, y_test = train_test_split(X, y, test_size=0.2, random_state=42)\n",
        "\n",
        "\n"
      ]
    },
    {
      "cell_type": "code",
      "source": [
        "# Escalado (opcional pero recomendable)\n",
        "scaler = StandardScaler()\n",
        "X_train = scaler.fit_transform(X_train)\n",
        "X_test = scaler.transform(X_test)\n",
        "\n",
        "# Entrenar modelo\n",
        "model = LogisticRegression(max_iter=1000)\n",
        "model.fit(X_train, y_train)\n",
        "\n",
        "# Evaluar\n",
        "y_pred = model.predict(X_test)\n",
        "print(classification_report(y_test, y_pred, target_names=data.target_names))"
      ],
      "metadata": {
        "colab": {
          "base_uri": "https://localhost:8080/"
        },
        "id": "Caod88zUsAR5",
        "outputId": "06564eea-8489-4585-9fbe-dad189228847"
      },
      "execution_count": null,
      "outputs": [
        {
          "output_type": "stream",
          "name": "stdout",
          "text": [
            "              precision    recall  f1-score   support\n",
            "\n",
            "   malignant       0.98      0.95      0.96        43\n",
            "      benign       0.97      0.99      0.98        71\n",
            "\n",
            "    accuracy                           0.97       114\n",
            "   macro avg       0.97      0.97      0.97       114\n",
            "weighted avg       0.97      0.97      0.97       114\n",
            "\n"
          ]
        }
      ]
    },
    {
      "cell_type": "markdown",
      "source": [
        "### Pero miremos una sóla muestra"
      ],
      "metadata": {
        "id": "SDqVeLwGqC1i"
      }
    },
    {
      "cell_type": "code",
      "source": [
        "una_muestra = X_test[0].reshape(1,-1)\n",
        "una_muestra_escalada = scaler.transform(una_muestra)\n",
        "\n",
        "prediccion = model.predict(una_muestra_escalada)\n",
        "\n",
        "print(\"Dato real\", y_test[0])\n",
        "print(\"Predicción del modelo\",prediccion[0])\n",
        "print(\"Probabilidad\", model.predict_proba(una_muestra_escalada))"
      ],
      "metadata": {
        "colab": {
          "base_uri": "https://localhost:8080/"
        },
        "id": "RZ3P5-ABqCJk",
        "outputId": "9aaedcbf-df6c-4881-90ea-b27758e562b1"
      },
      "execution_count": null,
      "outputs": [
        {
          "output_type": "stream",
          "name": "stdout",
          "text": [
            "Dato real 1\n",
            "Predicción del modelo 0\n",
            "Probabilidad [[9.99960154e-01 3.98455760e-05]]\n"
          ]
        }
      ]
    }
  ]
}